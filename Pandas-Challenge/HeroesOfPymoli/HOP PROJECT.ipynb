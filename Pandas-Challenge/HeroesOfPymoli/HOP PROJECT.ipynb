{
 "cells": [
  {
   "cell_type": "markdown",
   "metadata": {},
   "source": [
    "### Note\n",
    "* Instructions have been included for each segment. You do not have to follow them exactly, but they are included to help you think through the steps."
   ]
  },
  {
   "cell_type": "code",
   "execution_count": 18,
   "metadata": {},
   "outputs": [],
   "source": [
    "# Dependencies and Setup\n",
    "import pandas as pd\n",
    "import numpy as np\n",
    "\n",
    "\n",
    "# File to Load (Remember to Change These)\n",
    "file_to_load = \"Resources/purchase_data.csv\"\n",
    "\n",
    "# Read Purchasing File and store into Pandas data frame\n",
    "purchase_data = pd.read_csv(file_to_load)"
   ]
  },
  {
   "cell_type": "markdown",
   "metadata": {},
   "source": [
    "## Player Count"
   ]
  },
  {
   "cell_type": "markdown",
   "metadata": {},
   "source": [
    "* Display the total number of players\n"
   ]
  },
  {
   "cell_type": "code",
   "execution_count": 11,
   "metadata": {},
   "outputs": [
    {
     "data": {
      "text/html": [
       "<div>\n",
       "<style scoped>\n",
       "    .dataframe tbody tr th:only-of-type {\n",
       "        vertical-align: middle;\n",
       "    }\n",
       "\n",
       "    .dataframe tbody tr th {\n",
       "        vertical-align: top;\n",
       "    }\n",
       "\n",
       "    .dataframe thead th {\n",
       "        text-align: right;\n",
       "    }\n",
       "</style>\n",
       "<table border=\"1\" class=\"dataframe\">\n",
       "  <thead>\n",
       "    <tr style=\"text-align: right;\">\n",
       "      <th></th>\n",
       "      <th>Total Players</th>\n",
       "    </tr>\n",
       "  </thead>\n",
       "  <tbody>\n",
       "    <tr>\n",
       "      <th>0</th>\n",
       "      <td>576</td>\n",
       "    </tr>\n",
       "  </tbody>\n",
       "</table>\n",
       "</div>"
      ],
      "text/plain": [
       "   Total Players\n",
       "0            576"
      ]
     },
     "execution_count": 11,
     "metadata": {},
     "output_type": "execute_result"
    }
   ],
   "source": [
    "numberofplayers = len(purchase_data['SN'].value_counts())\n",
    "\n",
    "totalPlayer = pd.DataFrame({\"Total Players\":[numberofplayers]})\n",
    "totalPlayer"
   ]
  },
  {
   "cell_type": "markdown",
   "metadata": {},
   "source": [
    "## Purchasing Analysis (Total)"
   ]
  },
  {
   "cell_type": "markdown",
   "metadata": {},
   "source": [
    "* Run basic calculations to obtain number of unique items, average price, etc.\n",
    "\n",
    "\n",
    "* Create a summary data frame to hold the results\n",
    "\n",
    "\n",
    "* Optional: give the displayed data cleaner formatting\n",
    "\n",
    "\n",
    "* Display the summary data frame\n"
   ]
  },
  {
   "cell_type": "code",
   "execution_count": 3,
   "metadata": {},
   "outputs": [
    {
     "data": {
      "text/html": [
       "<style  type=\"text/css\" >\n",
       "</style>  \n",
       "<table id=\"T_817da0f4_e7c0_11e9_9d3b_1c36bb100c00\" > \n",
       "<thead>    <tr> \n",
       "        <th class=\"blank level0\" ></th> \n",
       "        <th class=\"col_heading level0 col0\" >Number of Unique Items</th> \n",
       "        <th class=\"col_heading level0 col1\" >Average Price</th> \n",
       "        <th class=\"col_heading level0 col2\" >Number of Purchases</th> \n",
       "        <th class=\"col_heading level0 col3\" >Total Revenue</th> \n",
       "    </tr></thead> \n",
       "<tbody>    <tr> \n",
       "        <th id=\"T_817da0f4_e7c0_11e9_9d3b_1c36bb100c00level0_row0\" class=\"row_heading level0 row0\" >0</th> \n",
       "        <td id=\"T_817da0f4_e7c0_11e9_9d3b_1c36bb100c00row0_col0\" class=\"data row0 col0\" >183</td> \n",
       "        <td id=\"T_817da0f4_e7c0_11e9_9d3b_1c36bb100c00row0_col1\" class=\"data row0 col1\" >$3.05</td> \n",
       "        <td id=\"T_817da0f4_e7c0_11e9_9d3b_1c36bb100c00row0_col2\" class=\"data row0 col2\" >780</td> \n",
       "        <td id=\"T_817da0f4_e7c0_11e9_9d3b_1c36bb100c00row0_col3\" class=\"data row0 col3\" >$2,379.77</td> \n",
       "    </tr></tbody> \n",
       "</table> "
      ],
      "text/plain": [
       "<pandas.io.formats.style.Styler at 0x10af68198>"
      ]
     },
     "execution_count": 3,
     "metadata": {},
     "output_type": "execute_result"
    }
   ],
   "source": [
    "numberOfItems = len(purchase_data['Item ID'].unique()) #Finding the count of the unique tiem\n",
    "averagePrice = purchase_data[\"Price\"].mean() #average price\n",
    "numberOfPurchase = purchase_data[\"Purchase ID\"].count() #counting the number of prchase\n",
    "totalRevenue = purchase_data[\"Price\"].sum() #adding up all the sum\n",
    "\n",
    "df = pd.DataFrame({\"Number of Unique Items\":[numberOfItems],\n",
    "                  \"Average Price\":[averagePrice],\n",
    "                  \"Number of Purchases\":[numberOfPurchase],\n",
    "                  \"Total Revenue\":[totalRevenue]})\n",
    "\n",
    "df_sort = df[[\"Number of Unique Items\",\"Average Price\",\n",
    "             \"Number of Purchases\",\"Total Revenue\"]]\n",
    "\n",
    "\n",
    "#Formatting average price and total revenue\n",
    "\n",
    "Formated_df = df_sort.style.format({'Average Price':\"${:,.2f}\",\n",
    "                         'Total Revenue': '${:,.2f}'})\n",
    "Formated_df\n",
    "\n",
    "\n"
   ]
  },
  {
   "cell_type": "markdown",
   "metadata": {},
   "source": [
    "## Gender Demographics"
   ]
  },
  {
   "cell_type": "markdown",
   "metadata": {},
   "source": [
    "* Percentage and Count of Male Players\n",
    "\n",
    "\n",
    "* Percentage and Count of Female Players\n",
    "\n",
    "\n",
    "* Percentage and Count of Other / Non-Disclosed\n",
    "\n",
    "\n"
   ]
  },
  {
   "cell_type": "code",
   "execution_count": 53,
   "metadata": {},
   "outputs": [
    {
     "data": {
      "text/html": [
       "<style  type=\"text/css\" >\n",
       "</style>  \n",
       "<table id=\"T_eea4545c_e7d4_11e9_8a54_1c36bb100c00\" > \n",
       "<thead>    <tr> \n",
       "        <th class=\"blank level0\" ></th> \n",
       "        <th class=\"col_heading level0 col0\" >Total Count</th> \n",
       "        <th class=\"col_heading level0 col1\" >Percentage of Players</th> \n",
       "    </tr></thead> \n",
       "<tbody>    <tr> \n",
       "        <th id=\"T_eea4545c_e7d4_11e9_8a54_1c36bb100c00level0_row0\" class=\"row_heading level0 row0\" >Male</th> \n",
       "        <td id=\"T_eea4545c_e7d4_11e9_8a54_1c36bb100c00row0_col0\" class=\"data row0 col0\" >484</td> \n",
       "        <td id=\"T_eea4545c_e7d4_11e9_8a54_1c36bb100c00row0_col1\" class=\"data row0 col1\" >84.03%</td> \n",
       "    </tr>    <tr> \n",
       "        <th id=\"T_eea4545c_e7d4_11e9_8a54_1c36bb100c00level0_row1\" class=\"row_heading level0 row1\" >Female</th> \n",
       "        <td id=\"T_eea4545c_e7d4_11e9_8a54_1c36bb100c00row1_col0\" class=\"data row1 col0\" >81</td> \n",
       "        <td id=\"T_eea4545c_e7d4_11e9_8a54_1c36bb100c00row1_col1\" class=\"data row1 col1\" >14.06%</td> \n",
       "    </tr>    <tr> \n",
       "        <th id=\"T_eea4545c_e7d4_11e9_8a54_1c36bb100c00level0_row2\" class=\"row_heading level0 row2\" >Other / Non-Disclosed</th> \n",
       "        <td id=\"T_eea4545c_e7d4_11e9_8a54_1c36bb100c00row2_col0\" class=\"data row2 col0\" >11</td> \n",
       "        <td id=\"T_eea4545c_e7d4_11e9_8a54_1c36bb100c00row2_col1\" class=\"data row2 col1\" >1.91%</td> \n",
       "    </tr></tbody> \n",
       "</table> "
      ],
      "text/plain": [
       "<pandas.io.formats.style.Styler at 0x117830240>"
      ]
     },
     "execution_count": 53,
     "metadata": {},
     "output_type": "execute_result"
    }
   ],
   "source": [
    "# Group purchase_data by Gender\n",
    "grouped_genders = purchase_data.groupby(\"Gender\")\n",
    "\n",
    "# Count the total of screen names \"SN\" by gender\n",
    "totalOfGender = gender_stats[\"SN\"].nunique()\n",
    "\n",
    "# Total count by gender and divivde by total players \n",
    "percentageOfPlayers= totalOfGender / numberofplayers * 100\n",
    "\n",
    "# Create data frame with obtained values\n",
    "gender_df = pd.DataFrame({\"Percentage of Players\": percentageOfPlayers, \"Total Count\": totalOfGender})\n",
    "\n",
    "\n",
    "# Sorting the column in order.\n",
    "gender_df_sort = gender_df[[\"Total Count\", \"Percentage of Players\"]]\n",
    "\n",
    "# Sorted total count.\n",
    "asc_count = gender_df_sort.sort_values([\"Total Count\"], ascending = False)\n",
    "\n",
    "# putting percentage on the percentage of players\n",
    "asc_count.style.format({\"Percentage of Players\":\"{:.2f}%\"})\n",
    "\n",
    "\n"
   ]
  },
  {
   "cell_type": "markdown",
   "metadata": {},
   "source": [
    "\n",
    "## Purchasing Analysis (Gender)"
   ]
  },
  {
   "cell_type": "markdown",
   "metadata": {},
   "source": [
    "* Run basic calculations to obtain purchase count, avg. purchase price, avg. purchase total per person etc. by gender\n",
    "\n",
    "\n",
    "\n",
    "\n",
    "* Create a summary data frame to hold the results\n",
    "\n",
    "\n",
    "* Optional: give the displayed data cleaner formatting\n",
    "\n",
    "\n",
    "* Display the summary data frame"
   ]
  },
  {
   "cell_type": "code",
   "execution_count": 67,
   "metadata": {},
   "outputs": [
    {
     "data": {
      "text/html": [
       "<style  type=\"text/css\" >\n",
       "</style>  \n",
       "<table id=\"T_28a90dcc_e7d6_11e9_aa83_1c36bb100c00\" > \n",
       "<thead>    <tr> \n",
       "        <th class=\"blank level0\" ></th> \n",
       "        <th class=\"col_heading level0 col0\" >Purchase Count</th> \n",
       "        <th class=\"col_heading level0 col1\" >Average Purchase Price</th> \n",
       "        <th class=\"col_heading level0 col2\" >Total Purchase Value</th> \n",
       "        <th class=\"col_heading level0 col3\" >Avg Total Purchase per Person</th> \n",
       "    </tr>    <tr> \n",
       "        <th class=\"index_name level0\" >Gender</th> \n",
       "        <th class=\"blank\" ></th> \n",
       "        <th class=\"blank\" ></th> \n",
       "        <th class=\"blank\" ></th> \n",
       "        <th class=\"blank\" ></th> \n",
       "    </tr></thead> \n",
       "<tbody>    <tr> \n",
       "        <th id=\"T_28a90dcc_e7d6_11e9_aa83_1c36bb100c00level0_row0\" class=\"row_heading level0 row0\" >Female</th> \n",
       "        <td id=\"T_28a90dcc_e7d6_11e9_aa83_1c36bb100c00row0_col0\" class=\"data row0 col0\" >113</td> \n",
       "        <td id=\"T_28a90dcc_e7d6_11e9_aa83_1c36bb100c00row0_col1\" class=\"data row0 col1\" >$3.20</td> \n",
       "        <td id=\"T_28a90dcc_e7d6_11e9_aa83_1c36bb100c00row0_col2\" class=\"data row0 col2\" >$361.94</td> \n",
       "        <td id=\"T_28a90dcc_e7d6_11e9_aa83_1c36bb100c00row0_col3\" class=\"data row0 col3\" >$4.47</td> \n",
       "    </tr>    <tr> \n",
       "        <th id=\"T_28a90dcc_e7d6_11e9_aa83_1c36bb100c00level0_row1\" class=\"row_heading level0 row1\" >Male</th> \n",
       "        <td id=\"T_28a90dcc_e7d6_11e9_aa83_1c36bb100c00row1_col0\" class=\"data row1 col0\" >652</td> \n",
       "        <td id=\"T_28a90dcc_e7d6_11e9_aa83_1c36bb100c00row1_col1\" class=\"data row1 col1\" >$3.02</td> \n",
       "        <td id=\"T_28a90dcc_e7d6_11e9_aa83_1c36bb100c00row1_col2\" class=\"data row1 col2\" >$1,967.64</td> \n",
       "        <td id=\"T_28a90dcc_e7d6_11e9_aa83_1c36bb100c00row1_col3\" class=\"data row1 col3\" >$4.07</td> \n",
       "    </tr>    <tr> \n",
       "        <th id=\"T_28a90dcc_e7d6_11e9_aa83_1c36bb100c00level0_row2\" class=\"row_heading level0 row2\" >Other / Non-Disclosed</th> \n",
       "        <td id=\"T_28a90dcc_e7d6_11e9_aa83_1c36bb100c00row2_col0\" class=\"data row2 col0\" >15</td> \n",
       "        <td id=\"T_28a90dcc_e7d6_11e9_aa83_1c36bb100c00row2_col1\" class=\"data row2 col1\" >$3.35</td> \n",
       "        <td id=\"T_28a90dcc_e7d6_11e9_aa83_1c36bb100c00row2_col2\" class=\"data row2 col2\" >$50.19</td> \n",
       "        <td id=\"T_28a90dcc_e7d6_11e9_aa83_1c36bb100c00row2_col3\" class=\"data row2 col3\" >$4.56</td> \n",
       "    </tr></tbody> \n",
       "</table> "
      ],
      "text/plain": [
       "<pandas.io.formats.style.Styler at 0x1179617b8>"
      ]
     },
     "execution_count": 67,
     "metadata": {},
     "output_type": "execute_result"
    }
   ],
   "source": [
    "# Finding the purchase count numbers by genders\n",
    "purchaseCount = grouped_genders['Purchase ID'].count()\n",
    "\n",
    "# Finding the average price of each gender\n",
    "averagePurchase = grouped_genders['Price'].mean()\n",
    "\n",
    "# Find the total purchase value of each gender\n",
    "totalPurchaseValue = grouped_genders['Price'].sum()\n",
    "\n",
    "# Find the average purchase total per person\n",
    "averagePerPerson = totalPurchaseValue/totalOfGender\n",
    "\n",
    "# Creating dataframe\n",
    "purchasing_df = pd.DataFrame({\"Purchase Count\":purchaseCount,\n",
    "                             \"Average Purchase Price\":averagePurchase,\n",
    "                             \"Total Purchase Value\":totalPurchaseValue,\n",
    "                             \"Avg Total Purchase per Person\":averagePerPerson})\n",
    "# Sorting the column in order\n",
    "purchasing_df_sort = purchasing_df[[\"Purchase Count\",\"Average Purchase Price\",\n",
    "                                   \"Total Purchase Value\",\"Avg Total Purchase per Person\"]]\n",
    "# Format the output\n",
    "purchasing_df_sort.style.format({\"Average Purchase Price\":\"${:,.2f}\",\n",
    "                                \"Avg Total Purchase per Person\":\"${:,.2f}\",\n",
    "                                \"Total Purchase Value\":\"${:,.2f}\"})\n"
   ]
  },
  {
   "cell_type": "markdown",
   "metadata": {},
   "source": [
    "## Age Demographics"
   ]
  },
  {
   "cell_type": "markdown",
   "metadata": {},
   "source": [
    "* Establish bins for ages\n",
    "\n",
    "\n",
    "* Categorize the existing players using the age bins. Hint: use pd.cut()\n",
    "\n",
    "\n",
    "* Calculate the numbers and percentages by age group\n",
    "\n",
    "\n",
    "* Create a summary data frame to hold the results\n",
    "\n",
    "\n",
    "* Optional: round the percentage column to two decimal points\n",
    "\n",
    "\n",
    "* Display Age Demographics Table\n"
   ]
  },
  {
   "cell_type": "code",
   "execution_count": 88,
   "metadata": {},
   "outputs": [
    {
     "data": {
      "text/html": [
       "<style  type=\"text/css\" >\n",
       "</style>  \n",
       "<table id=\"T_039b66da_e7de_11e9_80a0_1c36bb100c00\" > \n",
       "<thead>    <tr> \n",
       "        <th class=\"blank level0\" ></th> \n",
       "        <th class=\"col_heading level0 col0\" >Total Count</th> \n",
       "        <th class=\"col_heading level0 col1\" >Percentage of Players</th> \n",
       "    </tr>    <tr> \n",
       "        <th class=\"index_name level0\" >Age Group</th> \n",
       "        <th class=\"blank\" ></th> \n",
       "        <th class=\"blank\" ></th> \n",
       "    </tr></thead> \n",
       "<tbody>    <tr> \n",
       "        <th id=\"T_039b66da_e7de_11e9_80a0_1c36bb100c00level0_row0\" class=\"row_heading level0 row0\" ><10</th> \n",
       "        <td id=\"T_039b66da_e7de_11e9_80a0_1c36bb100c00row0_col0\" class=\"data row0 col0\" >17</td> \n",
       "        <td id=\"T_039b66da_e7de_11e9_80a0_1c36bb100c00row0_col1\" class=\"data row0 col1\" >2.95%</td> \n",
       "    </tr>    <tr> \n",
       "        <th id=\"T_039b66da_e7de_11e9_80a0_1c36bb100c00level0_row1\" class=\"row_heading level0 row1\" >10-14</th> \n",
       "        <td id=\"T_039b66da_e7de_11e9_80a0_1c36bb100c00row1_col0\" class=\"data row1 col0\" >22</td> \n",
       "        <td id=\"T_039b66da_e7de_11e9_80a0_1c36bb100c00row1_col1\" class=\"data row1 col1\" >3.82%</td> \n",
       "    </tr>    <tr> \n",
       "        <th id=\"T_039b66da_e7de_11e9_80a0_1c36bb100c00level0_row2\" class=\"row_heading level0 row2\" >15-19</th> \n",
       "        <td id=\"T_039b66da_e7de_11e9_80a0_1c36bb100c00row2_col0\" class=\"data row2 col0\" >107</td> \n",
       "        <td id=\"T_039b66da_e7de_11e9_80a0_1c36bb100c00row2_col1\" class=\"data row2 col1\" >18.58%</td> \n",
       "    </tr>    <tr> \n",
       "        <th id=\"T_039b66da_e7de_11e9_80a0_1c36bb100c00level0_row3\" class=\"row_heading level0 row3\" >20-24</th> \n",
       "        <td id=\"T_039b66da_e7de_11e9_80a0_1c36bb100c00row3_col0\" class=\"data row3 col0\" >258</td> \n",
       "        <td id=\"T_039b66da_e7de_11e9_80a0_1c36bb100c00row3_col1\" class=\"data row3 col1\" >44.79%</td> \n",
       "    </tr>    <tr> \n",
       "        <th id=\"T_039b66da_e7de_11e9_80a0_1c36bb100c00level0_row4\" class=\"row_heading level0 row4\" >25-29</th> \n",
       "        <td id=\"T_039b66da_e7de_11e9_80a0_1c36bb100c00row4_col0\" class=\"data row4 col0\" >77</td> \n",
       "        <td id=\"T_039b66da_e7de_11e9_80a0_1c36bb100c00row4_col1\" class=\"data row4 col1\" >13.37%</td> \n",
       "    </tr>    <tr> \n",
       "        <th id=\"T_039b66da_e7de_11e9_80a0_1c36bb100c00level0_row5\" class=\"row_heading level0 row5\" >30-34</th> \n",
       "        <td id=\"T_039b66da_e7de_11e9_80a0_1c36bb100c00row5_col0\" class=\"data row5 col0\" >52</td> \n",
       "        <td id=\"T_039b66da_e7de_11e9_80a0_1c36bb100c00row5_col1\" class=\"data row5 col1\" >9.03%</td> \n",
       "    </tr>    <tr> \n",
       "        <th id=\"T_039b66da_e7de_11e9_80a0_1c36bb100c00level0_row6\" class=\"row_heading level0 row6\" >35-39</th> \n",
       "        <td id=\"T_039b66da_e7de_11e9_80a0_1c36bb100c00row6_col0\" class=\"data row6 col0\" >31</td> \n",
       "        <td id=\"T_039b66da_e7de_11e9_80a0_1c36bb100c00row6_col1\" class=\"data row6 col1\" >5.38%</td> \n",
       "    </tr>    <tr> \n",
       "        <th id=\"T_039b66da_e7de_11e9_80a0_1c36bb100c00level0_row7\" class=\"row_heading level0 row7\" >40+</th> \n",
       "        <td id=\"T_039b66da_e7de_11e9_80a0_1c36bb100c00row7_col0\" class=\"data row7 col0\" >12</td> \n",
       "        <td id=\"T_039b66da_e7de_11e9_80a0_1c36bb100c00row7_col1\" class=\"data row7 col1\" >2.08%</td> \n",
       "    </tr></tbody> \n",
       "</table> "
      ],
      "text/plain": [
       "<pandas.io.formats.style.Styler at 0x117899ef0>"
      ]
     },
     "execution_count": 88,
     "metadata": {},
     "output_type": "execute_result"
    }
   ],
   "source": [
    "# Establish bins for ages\n",
    "bins = [0, 9.90, 14.90, 19.90, 24.90, 29.90, 34.90, 39.90, 200]\n",
    "group_names = [\"<10\", \"10-14\", \"15-19\", \"20-24\", \"25-29\", \"30-34\", \"35-39\", \"40+\"]\n",
    "\n",
    "# Segment and sort age values into bins established above\n",
    "purchase_data[\"Age Group\"] = pd.cut(purchase_data[\"Age\"],bins, labels=group_names)\n",
    "purchase_data\n",
    "\n",
    "# Create new data frame with the added \"Age Group\" and group it\n",
    "age_grouped = purchase_data.groupby(\"Age Group\")\n",
    "\n",
    "# Count total players by age category\n",
    "totalCountAge = age_grouped[\"SN\"].nunique()\n",
    "\n",
    "# Calculate percentages by age category \n",
    "percentageByAge = (total_count_age/numberofplayers) * 100\n",
    "\n",
    "# Create data frame with obtained values\n",
    "age_demographics = pd.DataFrame({\"Percentage of Players\": percentageByAge, \"Total Count\": totalCountAge})\n",
    "\n",
    "# Soting columns\n",
    "age_demographics_sort = age_demographics[[\"Total Count\",\"Percentage of Players\"]]\n",
    "\n",
    "# Format percentage with two decimal places \n",
    "age_demographics_sort.style.format({\"Percentage of Players\":\"{:,.2f}%\"})\n"
   ]
  },
  {
   "cell_type": "markdown",
   "metadata": {},
   "source": [
    "## Purchasing Analysis (Age)"
   ]
  },
  {
   "cell_type": "markdown",
   "metadata": {},
   "source": [
    "* Bin the purchase_data data frame by age\n",
    "\n",
    "\n",
    "* Run basic calculations to obtain purchase count, avg. purchase price, avg. purchase total per person etc. in the table below\n",
    "\n",
    "\n",
    "* Create a summary data frame to hold the results\n",
    "\n",
    "\n",
    "* Optional: give the displayed data cleaner formatting\n",
    "\n",
    "\n",
    "* Display the summary data frame"
   ]
  },
  {
   "cell_type": "code",
   "execution_count": 93,
   "metadata": {},
   "outputs": [
    {
     "data": {
      "text/html": [
       "<style  type=\"text/css\" >\n",
       "</style>  \n",
       "<table id=\"T_c4146d4c_e7de_11e9_86fe_1c36bb100c00\" > \n",
       "<thead>    <tr> \n",
       "        <th class=\"blank level0\" ></th> \n",
       "        <th class=\"col_heading level0 col0\" >Purchase Count</th> \n",
       "        <th class=\"col_heading level0 col1\" >Average Purchase Price</th> \n",
       "        <th class=\"col_heading level0 col2\" >Total Purchase Value</th> \n",
       "        <th class=\"col_heading level0 col3\" >Avg Total Purchase per Person</th> \n",
       "    </tr>    <tr> \n",
       "        <th class=\"index_name level0\" >Age Group</th> \n",
       "        <th class=\"blank\" ></th> \n",
       "        <th class=\"blank\" ></th> \n",
       "        <th class=\"blank\" ></th> \n",
       "        <th class=\"blank\" ></th> \n",
       "    </tr></thead> \n",
       "<tbody>    <tr> \n",
       "        <th id=\"T_c4146d4c_e7de_11e9_86fe_1c36bb100c00level0_row0\" class=\"row_heading level0 row0\" ><10</th> \n",
       "        <td id=\"T_c4146d4c_e7de_11e9_86fe_1c36bb100c00row0_col0\" class=\"data row0 col0\" >23</td> \n",
       "        <td id=\"T_c4146d4c_e7de_11e9_86fe_1c36bb100c00row0_col1\" class=\"data row0 col1\" >$3.35</td> \n",
       "        <td id=\"T_c4146d4c_e7de_11e9_86fe_1c36bb100c00row0_col2\" class=\"data row0 col2\" >$77.13</td> \n",
       "        <td id=\"T_c4146d4c_e7de_11e9_86fe_1c36bb100c00row0_col3\" class=\"data row0 col3\" >$4.54</td> \n",
       "    </tr>    <tr> \n",
       "        <th id=\"T_c4146d4c_e7de_11e9_86fe_1c36bb100c00level0_row1\" class=\"row_heading level0 row1\" >10-14</th> \n",
       "        <td id=\"T_c4146d4c_e7de_11e9_86fe_1c36bb100c00row1_col0\" class=\"data row1 col0\" >28</td> \n",
       "        <td id=\"T_c4146d4c_e7de_11e9_86fe_1c36bb100c00row1_col1\" class=\"data row1 col1\" >$2.96</td> \n",
       "        <td id=\"T_c4146d4c_e7de_11e9_86fe_1c36bb100c00row1_col2\" class=\"data row1 col2\" >$82.78</td> \n",
       "        <td id=\"T_c4146d4c_e7de_11e9_86fe_1c36bb100c00row1_col3\" class=\"data row1 col3\" >$3.76</td> \n",
       "    </tr>    <tr> \n",
       "        <th id=\"T_c4146d4c_e7de_11e9_86fe_1c36bb100c00level0_row2\" class=\"row_heading level0 row2\" >15-19</th> \n",
       "        <td id=\"T_c4146d4c_e7de_11e9_86fe_1c36bb100c00row2_col0\" class=\"data row2 col0\" >136</td> \n",
       "        <td id=\"T_c4146d4c_e7de_11e9_86fe_1c36bb100c00row2_col1\" class=\"data row2 col1\" >$3.04</td> \n",
       "        <td id=\"T_c4146d4c_e7de_11e9_86fe_1c36bb100c00row2_col2\" class=\"data row2 col2\" >$412.89</td> \n",
       "        <td id=\"T_c4146d4c_e7de_11e9_86fe_1c36bb100c00row2_col3\" class=\"data row2 col3\" >$3.86</td> \n",
       "    </tr>    <tr> \n",
       "        <th id=\"T_c4146d4c_e7de_11e9_86fe_1c36bb100c00level0_row3\" class=\"row_heading level0 row3\" >20-24</th> \n",
       "        <td id=\"T_c4146d4c_e7de_11e9_86fe_1c36bb100c00row3_col0\" class=\"data row3 col0\" >365</td> \n",
       "        <td id=\"T_c4146d4c_e7de_11e9_86fe_1c36bb100c00row3_col1\" class=\"data row3 col1\" >$3.05</td> \n",
       "        <td id=\"T_c4146d4c_e7de_11e9_86fe_1c36bb100c00row3_col2\" class=\"data row3 col2\" >$1,114.06</td> \n",
       "        <td id=\"T_c4146d4c_e7de_11e9_86fe_1c36bb100c00row3_col3\" class=\"data row3 col3\" >$4.32</td> \n",
       "    </tr>    <tr> \n",
       "        <th id=\"T_c4146d4c_e7de_11e9_86fe_1c36bb100c00level0_row4\" class=\"row_heading level0 row4\" >25-29</th> \n",
       "        <td id=\"T_c4146d4c_e7de_11e9_86fe_1c36bb100c00row4_col0\" class=\"data row4 col0\" >101</td> \n",
       "        <td id=\"T_c4146d4c_e7de_11e9_86fe_1c36bb100c00row4_col1\" class=\"data row4 col1\" >$2.90</td> \n",
       "        <td id=\"T_c4146d4c_e7de_11e9_86fe_1c36bb100c00row4_col2\" class=\"data row4 col2\" >$293.00</td> \n",
       "        <td id=\"T_c4146d4c_e7de_11e9_86fe_1c36bb100c00row4_col3\" class=\"data row4 col3\" >$3.81</td> \n",
       "    </tr>    <tr> \n",
       "        <th id=\"T_c4146d4c_e7de_11e9_86fe_1c36bb100c00level0_row5\" class=\"row_heading level0 row5\" >30-34</th> \n",
       "        <td id=\"T_c4146d4c_e7de_11e9_86fe_1c36bb100c00row5_col0\" class=\"data row5 col0\" >73</td> \n",
       "        <td id=\"T_c4146d4c_e7de_11e9_86fe_1c36bb100c00row5_col1\" class=\"data row5 col1\" >$2.93</td> \n",
       "        <td id=\"T_c4146d4c_e7de_11e9_86fe_1c36bb100c00row5_col2\" class=\"data row5 col2\" >$214.00</td> \n",
       "        <td id=\"T_c4146d4c_e7de_11e9_86fe_1c36bb100c00row5_col3\" class=\"data row5 col3\" >$4.12</td> \n",
       "    </tr>    <tr> \n",
       "        <th id=\"T_c4146d4c_e7de_11e9_86fe_1c36bb100c00level0_row6\" class=\"row_heading level0 row6\" >35-39</th> \n",
       "        <td id=\"T_c4146d4c_e7de_11e9_86fe_1c36bb100c00row6_col0\" class=\"data row6 col0\" >41</td> \n",
       "        <td id=\"T_c4146d4c_e7de_11e9_86fe_1c36bb100c00row6_col1\" class=\"data row6 col1\" >$3.60</td> \n",
       "        <td id=\"T_c4146d4c_e7de_11e9_86fe_1c36bb100c00row6_col2\" class=\"data row6 col2\" >$147.67</td> \n",
       "        <td id=\"T_c4146d4c_e7de_11e9_86fe_1c36bb100c00row6_col3\" class=\"data row6 col3\" >$4.76</td> \n",
       "    </tr>    <tr> \n",
       "        <th id=\"T_c4146d4c_e7de_11e9_86fe_1c36bb100c00level0_row7\" class=\"row_heading level0 row7\" >40+</th> \n",
       "        <td id=\"T_c4146d4c_e7de_11e9_86fe_1c36bb100c00row7_col0\" class=\"data row7 col0\" >13</td> \n",
       "        <td id=\"T_c4146d4c_e7de_11e9_86fe_1c36bb100c00row7_col1\" class=\"data row7 col1\" >$2.94</td> \n",
       "        <td id=\"T_c4146d4c_e7de_11e9_86fe_1c36bb100c00row7_col2\" class=\"data row7 col2\" >$38.24</td> \n",
       "        <td id=\"T_c4146d4c_e7de_11e9_86fe_1c36bb100c00row7_col3\" class=\"data row7 col3\" >$3.19</td> \n",
       "    </tr></tbody> \n",
       "</table> "
      ],
      "text/plain": [
       "<pandas.io.formats.style.Styler at 0x11785d0f0>"
      ]
     },
     "execution_count": 93,
     "metadata": {},
     "output_type": "execute_result"
    }
   ],
   "source": [
    "# Count by Age\n",
    "countAge = age_grouped['Purchase ID'].count()\n",
    "\n",
    "# Finding average purchase price\n",
    "avg_purchase_age = age_grouped['Price'].mean()\n",
    "\n",
    "# Findig the toal purchase value\n",
    "avg_total_purchase_age = age_grouped['Price'].sum()\n",
    "\n",
    "# Finding the average total purchase per person\n",
    "age_total_purchase_per_person = avg_total_purchase_age / totalCountAge\n",
    "\n",
    "#Creating DataFrame\n",
    "Purchasing_Analysis = pd.DataFrame({\"Purchase Count\":countAge,\"Average Purchase Price\":avg_purchase_age,\n",
    "                                   \"Total Purchase Value\":avg_total_purchase_age,\n",
    "                                   \"Avg Total Purchase per Person\":age_total_purchase_per_person})\n",
    "#Sorting the column\n",
    "Purchasing_Analysis_sort = Purchasing_Analysis[[\"Purchase Count\",\n",
    "                                               \"Average Purchase Price\",\n",
    "                                               \"Total Purchase Value\",\n",
    "                                               \"Avg Total Purchase per Person\"]]\n",
    "Purchasing_Analysis_sort.style.format({\"Average Purchase Price\":\"${:,.2f}\",\n",
    "                                      \"Total Purchase Value\":\"${:,.2f}\",\n",
    "                                      \"Avg Total Purchase per Person\":\n",
    "                                      \"${:,.2f}\"})\n",
    "\n",
    "\n"
   ]
  },
  {
   "cell_type": "markdown",
   "metadata": {},
   "source": [
    "## Top Spenders"
   ]
  },
  {
   "cell_type": "markdown",
   "metadata": {},
   "source": [
    "* Run basic calculations to obtain the results in the table below\n",
    "\n",
    "\n",
    "* Create a summary data frame to hold the results\n",
    "\n",
    "\n",
    "* Sort the total purchase value column in descending order\n",
    "\n",
    "\n",
    "* Optional: give the displayed data cleaner formatting\n",
    "\n",
    "\n",
    "* Display a preview of the summary data frame\n",
    "\n"
   ]
  },
  {
   "cell_type": "code",
   "execution_count": 98,
   "metadata": {},
   "outputs": [
    {
     "data": {
      "text/html": [
       "<style  type=\"text/css\" >\n",
       "</style>  \n",
       "<table id=\"T_62ac945e_e7e4_11e9_9277_1c36bb100c00\" > \n",
       "<thead>    <tr> \n",
       "        <th class=\"blank level0\" ></th> \n",
       "        <th class=\"col_heading level0 col0\" >Purchase Count</th> \n",
       "        <th class=\"col_heading level0 col1\" >Average Purchase Price</th> \n",
       "        <th class=\"col_heading level0 col2\" >Total Purchase Value</th> \n",
       "    </tr>    <tr> \n",
       "        <th class=\"index_name level0\" >SN</th> \n",
       "        <th class=\"blank\" ></th> \n",
       "        <th class=\"blank\" ></th> \n",
       "        <th class=\"blank\" ></th> \n",
       "    </tr></thead> \n",
       "<tbody>    <tr> \n",
       "        <th id=\"T_62ac945e_e7e4_11e9_9277_1c36bb100c00level0_row0\" class=\"row_heading level0 row0\" >Lisosia93</th> \n",
       "        <td id=\"T_62ac945e_e7e4_11e9_9277_1c36bb100c00row0_col0\" class=\"data row0 col0\" >5</td> \n",
       "        <td id=\"T_62ac945e_e7e4_11e9_9277_1c36bb100c00row0_col1\" class=\"data row0 col1\" >$3.79</td> \n",
       "        <td id=\"T_62ac945e_e7e4_11e9_9277_1c36bb100c00row0_col2\" class=\"data row0 col2\" >$18.96</td> \n",
       "    </tr>    <tr> \n",
       "        <th id=\"T_62ac945e_e7e4_11e9_9277_1c36bb100c00level0_row1\" class=\"row_heading level0 row1\" >Idastidru52</th> \n",
       "        <td id=\"T_62ac945e_e7e4_11e9_9277_1c36bb100c00row1_col0\" class=\"data row1 col0\" >4</td> \n",
       "        <td id=\"T_62ac945e_e7e4_11e9_9277_1c36bb100c00row1_col1\" class=\"data row1 col1\" >$3.86</td> \n",
       "        <td id=\"T_62ac945e_e7e4_11e9_9277_1c36bb100c00row1_col2\" class=\"data row1 col2\" >$15.45</td> \n",
       "    </tr>    <tr> \n",
       "        <th id=\"T_62ac945e_e7e4_11e9_9277_1c36bb100c00level0_row2\" class=\"row_heading level0 row2\" >Chamjask73</th> \n",
       "        <td id=\"T_62ac945e_e7e4_11e9_9277_1c36bb100c00row2_col0\" class=\"data row2 col0\" >3</td> \n",
       "        <td id=\"T_62ac945e_e7e4_11e9_9277_1c36bb100c00row2_col1\" class=\"data row2 col1\" >$4.61</td> \n",
       "        <td id=\"T_62ac945e_e7e4_11e9_9277_1c36bb100c00row2_col2\" class=\"data row2 col2\" >$13.83</td> \n",
       "    </tr>    <tr> \n",
       "        <th id=\"T_62ac945e_e7e4_11e9_9277_1c36bb100c00level0_row3\" class=\"row_heading level0 row3\" >Iral74</th> \n",
       "        <td id=\"T_62ac945e_e7e4_11e9_9277_1c36bb100c00row3_col0\" class=\"data row3 col0\" >4</td> \n",
       "        <td id=\"T_62ac945e_e7e4_11e9_9277_1c36bb100c00row3_col1\" class=\"data row3 col1\" >$3.40</td> \n",
       "        <td id=\"T_62ac945e_e7e4_11e9_9277_1c36bb100c00row3_col2\" class=\"data row3 col2\" >$13.62</td> \n",
       "    </tr>    <tr> \n",
       "        <th id=\"T_62ac945e_e7e4_11e9_9277_1c36bb100c00level0_row4\" class=\"row_heading level0 row4\" >Iskadarya95</th> \n",
       "        <td id=\"T_62ac945e_e7e4_11e9_9277_1c36bb100c00row4_col0\" class=\"data row4 col0\" >3</td> \n",
       "        <td id=\"T_62ac945e_e7e4_11e9_9277_1c36bb100c00row4_col1\" class=\"data row4 col1\" >$4.37</td> \n",
       "        <td id=\"T_62ac945e_e7e4_11e9_9277_1c36bb100c00row4_col2\" class=\"data row4 col2\" >$13.10</td> \n",
       "    </tr></tbody> \n",
       "</table> "
      ],
      "text/plain": [
       "<pandas.io.formats.style.Styler at 0x117847ac8>"
      ]
     },
     "execution_count": 98,
     "metadata": {},
     "output_type": "execute_result"
    }
   ],
   "source": [
    "# Grouping the SN \n",
    "Grouped_Spenders = purchase_data.groupby('SN')\n",
    "\n",
    "# Purchase count for each SN\n",
    "Spenders_Purchase_Count = Grouped_Spenders['Purchase ID'].count()\n",
    "\n",
    "# Finding the total purchase values\n",
    "Spenders_Total = Grouped_Spenders['Price'].sum()\n",
    "\n",
    "# Finding average purchase price\n",
    "Spenders_Avg_Purchase = Grouped_Spenders['Price'].mean()\n",
    "\n",
    "# Creating data frame\n",
    "Top_Spenders_df = pd.DataFrame({\"Purchase Count\":Spenders_Purchase_Count,\n",
    "                               \"Average Purchase Price\":Spenders_Avg_Purchase,\n",
    "                                \"Total Purchase Value\":Spenders_Total})\n",
    "\n",
    "#Sorting the column \n",
    "Top_Spenders_df_sort = Top_Spenders_df[[\"Purchase Count\",\"Average Purchase Price\",\n",
    "                                       \"Total Purchase Value\"]]\n",
    "\n",
    "#sorting from high\n",
    "formated_Top_Spenders = Top_Spenders_df_sort.sort_values([\"Total Purchase Value\"], ascending = False).head()\n",
    "\n",
    "formated_Top_Spenders.style.format({\"Total Purchase Value\":\"${:,.2f}\",\n",
    "                                  \"Average Purchase Price\":\"${:,.2f}\"})\n",
    "\n"
   ]
  },
  {
   "cell_type": "markdown",
   "metadata": {},
   "source": [
    "## Most Popular Items"
   ]
  },
  {
   "cell_type": "markdown",
   "metadata": {},
   "source": [
    "* Retrieve the Item ID, Item Name, and Item Price columns\n",
    "\n",
    "\n",
    "* Group by Item ID and Item Name. Perform calculations to obtain purchase count, item price, and total purchase value\n",
    "\n",
    "\n",
    "* Create a summary data frame to hold the results\n",
    "\n",
    "\n",
    "* Sort the purchase count column in descending order\n",
    "\n",
    "\n",
    "* Optional: give the displayed data cleaner formatting\n",
    "\n",
    "\n",
    "* Display a preview of the summary data frame\n",
    "\n"
   ]
  },
  {
   "cell_type": "code",
   "execution_count": 117,
   "metadata": {},
   "outputs": [
    {
     "data": {
      "text/html": [
       "<style  type=\"text/css\" >\n",
       "</style>  \n",
       "<table id=\"T_2ea71992_e814_11e9_92c1_1c36bb100c00\" > \n",
       "<thead>    <tr> \n",
       "        <th class=\"blank\" ></th> \n",
       "        <th class=\"blank level0\" ></th> \n",
       "        <th class=\"col_heading level0 col0\" >Purchase Count</th> \n",
       "        <th class=\"col_heading level0 col1\" >Item Price</th> \n",
       "        <th class=\"col_heading level0 col2\" >Total Purchase Value</th> \n",
       "    </tr>    <tr> \n",
       "        <th class=\"index_name level0\" >Item ID</th> \n",
       "        <th class=\"index_name level1\" >Item Name</th> \n",
       "        <th class=\"blank\" ></th> \n",
       "        <th class=\"blank\" ></th> \n",
       "        <th class=\"blank\" ></th> \n",
       "    </tr></thead> \n",
       "<tbody>    <tr> \n",
       "        <th id=\"T_2ea71992_e814_11e9_92c1_1c36bb100c00level0_row0\" class=\"row_heading level0 row0\" >178</th> \n",
       "        <th id=\"T_2ea71992_e814_11e9_92c1_1c36bb100c00level1_row0\" class=\"row_heading level1 row0\" >Oathbreaker, Last Hope of the Breaking Storm</th> \n",
       "        <td id=\"T_2ea71992_e814_11e9_92c1_1c36bb100c00row0_col0\" class=\"data row0 col0\" >12</td> \n",
       "        <td id=\"T_2ea71992_e814_11e9_92c1_1c36bb100c00row0_col1\" class=\"data row0 col1\" >$4.23</td> \n",
       "        <td id=\"T_2ea71992_e814_11e9_92c1_1c36bb100c00row0_col2\" class=\"data row0 col2\" >$50.76</td> \n",
       "    </tr>    <tr> \n",
       "        <th id=\"T_2ea71992_e814_11e9_92c1_1c36bb100c00level0_row1\" class=\"row_heading level0 row1\" >145</th> \n",
       "        <th id=\"T_2ea71992_e814_11e9_92c1_1c36bb100c00level1_row1\" class=\"row_heading level1 row1\" >Fiery Glass Crusader</th> \n",
       "        <td id=\"T_2ea71992_e814_11e9_92c1_1c36bb100c00row1_col0\" class=\"data row1 col0\" >9</td> \n",
       "        <td id=\"T_2ea71992_e814_11e9_92c1_1c36bb100c00row1_col1\" class=\"data row1 col1\" >$4.58</td> \n",
       "        <td id=\"T_2ea71992_e814_11e9_92c1_1c36bb100c00row1_col2\" class=\"data row1 col2\" >$41.22</td> \n",
       "    </tr>    <tr> \n",
       "        <th id=\"T_2ea71992_e814_11e9_92c1_1c36bb100c00level0_row2\" class=\"row_heading level0 row2\" >108</th> \n",
       "        <th id=\"T_2ea71992_e814_11e9_92c1_1c36bb100c00level1_row2\" class=\"row_heading level1 row2\" >Extraction, Quickblade Of Trembling Hands</th> \n",
       "        <td id=\"T_2ea71992_e814_11e9_92c1_1c36bb100c00row2_col0\" class=\"data row2 col0\" >9</td> \n",
       "        <td id=\"T_2ea71992_e814_11e9_92c1_1c36bb100c00row2_col1\" class=\"data row2 col1\" >$3.53</td> \n",
       "        <td id=\"T_2ea71992_e814_11e9_92c1_1c36bb100c00row2_col2\" class=\"data row2 col2\" >$31.77</td> \n",
       "    </tr>    <tr> \n",
       "        <th id=\"T_2ea71992_e814_11e9_92c1_1c36bb100c00level0_row3\" class=\"row_heading level0 row3\" >82</th> \n",
       "        <th id=\"T_2ea71992_e814_11e9_92c1_1c36bb100c00level1_row3\" class=\"row_heading level1 row3\" >Nirvana</th> \n",
       "        <td id=\"T_2ea71992_e814_11e9_92c1_1c36bb100c00row3_col0\" class=\"data row3 col0\" >9</td> \n",
       "        <td id=\"T_2ea71992_e814_11e9_92c1_1c36bb100c00row3_col1\" class=\"data row3 col1\" >$4.90</td> \n",
       "        <td id=\"T_2ea71992_e814_11e9_92c1_1c36bb100c00row3_col2\" class=\"data row3 col2\" >$44.10</td> \n",
       "    </tr>    <tr> \n",
       "        <th id=\"T_2ea71992_e814_11e9_92c1_1c36bb100c00level0_row4\" class=\"row_heading level0 row4\" >19</th> \n",
       "        <th id=\"T_2ea71992_e814_11e9_92c1_1c36bb100c00level1_row4\" class=\"row_heading level1 row4\" >Pursuit, Cudgel of Necromancy</th> \n",
       "        <td id=\"T_2ea71992_e814_11e9_92c1_1c36bb100c00row4_col0\" class=\"data row4 col0\" >8</td> \n",
       "        <td id=\"T_2ea71992_e814_11e9_92c1_1c36bb100c00row4_col1\" class=\"data row4 col1\" >$1.02</td> \n",
       "        <td id=\"T_2ea71992_e814_11e9_92c1_1c36bb100c00row4_col2\" class=\"data row4 col2\" >$8.16</td> \n",
       "    </tr></tbody> \n",
       "</table> "
      ],
      "text/plain": [
       "<pandas.io.formats.style.Styler at 0x117271240>"
      ]
     },
     "execution_count": 117,
     "metadata": {},
     "output_type": "execute_result"
    }
   ],
   "source": [
    "# Create a dataframe with item ID, Item Name, and Item price\n",
    "items_only = purchase_data[[\"Item ID\",\"Item Name\",\"Price\"]]\n",
    "\n",
    "# Grouping by item ID and name\n",
    "items_group = items_only.groupby([\"Item ID\",\"Item Name\"])\n",
    "\n",
    "# Calculation the count of the items\n",
    "items_purchase_count = items_group[\"Item ID\"].count()\n",
    "\n",
    "# Finding the total purchase values by groups\n",
    "items_total = items_group[\"Price\"].sum()\n",
    "\n",
    "# Finding each items price\n",
    "items_price = items_total/items_purchase_count\n",
    "\n",
    "# Creating the DataFrame\n",
    "popular_df = pd.DataFrame({\"Purchase Count\":items_purchase_count,\n",
    "                           \"Item Price\":items_price,\n",
    "                           \"Total Purchase Value\":items_total})\n",
    "# Sorting the column according to the assignemnt\n",
    "popular_column = popular_df[['Purchase Count','Item Price','Total Purchase Value']]\n",
    "\n",
    "#Ascending the purchase count\n",
    "popular_asc = popular_column.sort_values([\"Purchase Count\"], ascending = False).head()\n",
    "\n",
    "#Fixing the format\n",
    "popular_asc.style.format({\"Item Price\":\"${:,.2f}\",\n",
    "                         \"Total Purchase Value\":\"${:,.2f}\"})"
   ]
  },
  {
   "cell_type": "markdown",
   "metadata": {},
   "source": [
    "## Most Profitable Items"
   ]
  },
  {
   "cell_type": "markdown",
   "metadata": {},
   "source": [
    "* Sort the above table by total purchase value in descending order\n",
    "\n",
    "\n",
    "* Optional: give the displayed data cleaner formatting\n",
    "\n",
    "\n",
    "* Display a preview of the data frame\n",
    "\n"
   ]
  },
  {
   "cell_type": "code",
   "execution_count": 119,
   "metadata": {
    "scrolled": true
   },
   "outputs": [
    {
     "data": {
      "text/html": [
       "<style  type=\"text/css\" >\n",
       "</style>  \n",
       "<table id=\"T_5bf074b6_e814_11e9_b0e7_1c36bb100c00\" > \n",
       "<thead>    <tr> \n",
       "        <th class=\"blank\" ></th> \n",
       "        <th class=\"blank level0\" ></th> \n",
       "        <th class=\"col_heading level0 col0\" >Purchase Count</th> \n",
       "        <th class=\"col_heading level0 col1\" >Item Price</th> \n",
       "        <th class=\"col_heading level0 col2\" >Total Purchase Value</th> \n",
       "    </tr>    <tr> \n",
       "        <th class=\"index_name level0\" >Item ID</th> \n",
       "        <th class=\"index_name level1\" >Item Name</th> \n",
       "        <th class=\"blank\" ></th> \n",
       "        <th class=\"blank\" ></th> \n",
       "        <th class=\"blank\" ></th> \n",
       "    </tr></thead> \n",
       "<tbody>    <tr> \n",
       "        <th id=\"T_5bf074b6_e814_11e9_b0e7_1c36bb100c00level0_row0\" class=\"row_heading level0 row0\" >178</th> \n",
       "        <th id=\"T_5bf074b6_e814_11e9_b0e7_1c36bb100c00level1_row0\" class=\"row_heading level1 row0\" >Oathbreaker, Last Hope of the Breaking Storm</th> \n",
       "        <td id=\"T_5bf074b6_e814_11e9_b0e7_1c36bb100c00row0_col0\" class=\"data row0 col0\" >12</td> \n",
       "        <td id=\"T_5bf074b6_e814_11e9_b0e7_1c36bb100c00row0_col1\" class=\"data row0 col1\" >$4.23</td> \n",
       "        <td id=\"T_5bf074b6_e814_11e9_b0e7_1c36bb100c00row0_col2\" class=\"data row0 col2\" >$50.76</td> \n",
       "    </tr>    <tr> \n",
       "        <th id=\"T_5bf074b6_e814_11e9_b0e7_1c36bb100c00level0_row1\" class=\"row_heading level0 row1\" >82</th> \n",
       "        <th id=\"T_5bf074b6_e814_11e9_b0e7_1c36bb100c00level1_row1\" class=\"row_heading level1 row1\" >Nirvana</th> \n",
       "        <td id=\"T_5bf074b6_e814_11e9_b0e7_1c36bb100c00row1_col0\" class=\"data row1 col0\" >9</td> \n",
       "        <td id=\"T_5bf074b6_e814_11e9_b0e7_1c36bb100c00row1_col1\" class=\"data row1 col1\" >$4.90</td> \n",
       "        <td id=\"T_5bf074b6_e814_11e9_b0e7_1c36bb100c00row1_col2\" class=\"data row1 col2\" >$44.10</td> \n",
       "    </tr>    <tr> \n",
       "        <th id=\"T_5bf074b6_e814_11e9_b0e7_1c36bb100c00level0_row2\" class=\"row_heading level0 row2\" >145</th> \n",
       "        <th id=\"T_5bf074b6_e814_11e9_b0e7_1c36bb100c00level1_row2\" class=\"row_heading level1 row2\" >Fiery Glass Crusader</th> \n",
       "        <td id=\"T_5bf074b6_e814_11e9_b0e7_1c36bb100c00row2_col0\" class=\"data row2 col0\" >9</td> \n",
       "        <td id=\"T_5bf074b6_e814_11e9_b0e7_1c36bb100c00row2_col1\" class=\"data row2 col1\" >$4.58</td> \n",
       "        <td id=\"T_5bf074b6_e814_11e9_b0e7_1c36bb100c00row2_col2\" class=\"data row2 col2\" >$41.22</td> \n",
       "    </tr>    <tr> \n",
       "        <th id=\"T_5bf074b6_e814_11e9_b0e7_1c36bb100c00level0_row3\" class=\"row_heading level0 row3\" >92</th> \n",
       "        <th id=\"T_5bf074b6_e814_11e9_b0e7_1c36bb100c00level1_row3\" class=\"row_heading level1 row3\" >Final Critic</th> \n",
       "        <td id=\"T_5bf074b6_e814_11e9_b0e7_1c36bb100c00row3_col0\" class=\"data row3 col0\" >8</td> \n",
       "        <td id=\"T_5bf074b6_e814_11e9_b0e7_1c36bb100c00row3_col1\" class=\"data row3 col1\" >$4.88</td> \n",
       "        <td id=\"T_5bf074b6_e814_11e9_b0e7_1c36bb100c00row3_col2\" class=\"data row3 col2\" >$39.04</td> \n",
       "    </tr>    <tr> \n",
       "        <th id=\"T_5bf074b6_e814_11e9_b0e7_1c36bb100c00level0_row4\" class=\"row_heading level0 row4\" >103</th> \n",
       "        <th id=\"T_5bf074b6_e814_11e9_b0e7_1c36bb100c00level1_row4\" class=\"row_heading level1 row4\" >Singed Scalpel</th> \n",
       "        <td id=\"T_5bf074b6_e814_11e9_b0e7_1c36bb100c00row4_col0\" class=\"data row4 col0\" >8</td> \n",
       "        <td id=\"T_5bf074b6_e814_11e9_b0e7_1c36bb100c00row4_col1\" class=\"data row4 col1\" >$4.35</td> \n",
       "        <td id=\"T_5bf074b6_e814_11e9_b0e7_1c36bb100c00row4_col2\" class=\"data row4 col2\" >$34.80</td> \n",
       "    </tr></tbody> \n",
       "</table> "
      ],
      "text/plain": [
       "<pandas.io.formats.style.Styler at 0x11726be10>"
      ]
     },
     "execution_count": 119,
     "metadata": {},
     "output_type": "execute_result"
    }
   ],
   "source": [
    "# Sorting the total purchase value\n",
    "popular_desc = popular_column.sort_values([\"Total Purchase Value\"], \n",
    "                                          ascending = False).head()\n",
    "\n",
    "#Fixing the format\n",
    "popular_desc.style.format({\"Item Price\":\"${:,.2f}\",\n",
    "                         \"Total Purchase Value\":\"${:,.2f}\"})"
   ]
  },
  {
   "cell_type": "code",
   "execution_count": null,
   "metadata": {},
   "outputs": [],
   "source": []
  }
 ],
 "metadata": {
  "anaconda-cloud": {},
  "kernel_info": {
   "name": "python3"
  },
  "kernelspec": {
   "display_name": "Python 3",
   "language": "python",
   "name": "python3"
  },
  "language_info": {
   "codemirror_mode": {
    "name": "ipython",
    "version": 3
   },
   "file_extension": ".py",
   "mimetype": "text/x-python",
   "name": "python",
   "nbconvert_exporter": "python",
   "pygments_lexer": "ipython3",
   "version": "3.6.4"
  },
  "latex_envs": {
   "LaTeX_envs_menu_present": true,
   "autoclose": false,
   "autocomplete": true,
   "bibliofile": "biblio.bib",
   "cite_by": "apalike",
   "current_citInitial": 1,
   "eqLabelWithNumbers": true,
   "eqNumInitial": 1,
   "hotkeys": {
    "equation": "Ctrl-E",
    "itemize": "Ctrl-I"
   },
   "labels_anchors": false,
   "latex_user_defs": false,
   "report_style_numbering": false,
   "user_envs_cfg": false
  },
  "nteract": {
   "version": "0.2.0"
  }
 },
 "nbformat": 4,
 "nbformat_minor": 2
}
